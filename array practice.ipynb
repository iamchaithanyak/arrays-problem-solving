{
 "cells": [
  {
   "cell_type": "code",
   "execution_count": null,
   "metadata": {},
   "outputs": [],
   "source": []
  },
  {
   "cell_type": "code",
   "execution_count": null,
   "metadata": {},
   "outputs": [],
   "source": []
  },
  {
   "cell_type": "code",
   "execution_count": 1,
   "metadata": {},
   "outputs": [
    {
     "name": "stdout",
     "output_type": "stream",
     "text": [
      "6\n",
      "3 2 1 56 1000 167\n",
      "1\n",
      "1000\n"
     ]
    }
   ],
   "source": [
    "n=int(input())\n",
    "arr=[int(x) for x in input().split()]\n",
    "b=max(arr)\n",
    "a=min(arr)\n",
    "print(a)\n",
    "print(b)"
   ]
  },
  {
   "cell_type": "code",
   "execution_count": 13,
   "metadata": {},
   "outputs": [
    {
     "name": "stdout",
     "output_type": "stream",
     "text": [
      "5\n",
      "12 7596 4 5 9\n",
      "4 5 9 12 7596 max 7596\n",
      "min 4\n"
     ]
    }
   ],
   "source": [
    "def bubblesort(n):\n",
    "    for i in range(0,len(n)-1):\n",
    "        for j in range(len(n)-1):\n",
    "            if(n[j]>n[j+1]):\n",
    "                n[j],n[j+1]=n[j+1],n[j]\n",
    "    return n\n",
    "a=int(input())\n",
    "n=[int(i) for i in input().split()]\n",
    "ans=bubblesort(n)\n",
    "for i in ans:\n",
    "    print(i,end=\" \")\n",
    "print(\"\\nmax\",ans[-1])\n",
    "print(\"min\",ans[0])"
   ]
  },
  {
   "cell_type": "code",
   "execution_count": 15,
   "metadata": {},
   "outputs": [
    {
     "name": "stdout",
     "output_type": "stream",
     "text": [
      "geeks\n",
      "skeeg\n"
     ]
    }
   ],
   "source": [
    "n=input()\n",
    "print(n[::-1])"
   ]
  },
  {
   "cell_type": "code",
   "execution_count": 21,
   "metadata": {},
   "outputs": [
    {
     "name": "stdout",
     "output_type": "stream",
     "text": [
      "5\n",
      "1 5 3 2\n",
      "[1, 2, 3, 5]\n"
     ]
    }
   ],
   "source": [
    "n=int(input())\n",
    "arr=[int(i) for i in input().split()]\n",
    "arr.sort()\n",
    "print(arr)"
   ]
  },
  {
   "cell_type": "code",
   "execution_count": 18,
   "metadata": {},
   "outputs": [
    {
     "name": "stdout",
     "output_type": "stream",
     "text": [
      "[1, 2, 3, 4]\n"
     ]
    }
   ],
   "source": [
    "numbers = [1, 3, 4, 2]\n",
    "  \n",
    "# Sorting list of Integers\n",
    "numbers.sort()\n",
    "  \n",
    "print(numbers)\n",
    "  "
   ]
  },
  {
   "cell_type": "code",
   "execution_count": 28,
   "metadata": {},
   "outputs": [
    {
     "name": "stdout",
     "output_type": "stream",
     "text": [
      "[3, 4, 7, 10, 15, 20]\n",
      "10\n",
      "7\n"
     ]
    }
   ],
   "source": [
    "arr=[7,10,4,3,20,15]\n",
    "k=3\n",
    "arr.sort()\n",
    "print(arr)\n",
    "#k largest and k smallest element in an array\n",
    "print(arr[len(arr)-k])\n",
    "print(arr[k-1])"
   ]
  },
  {
   "cell_type": "code",
   "execution_count": 30,
   "metadata": {},
   "outputs": [
    {
     "name": "stdout",
     "output_type": "stream",
     "text": [
      "10\n",
      "0 1 1 2 2 2 1 1 1 0 0 0 0 0 2 2 2 1 0 2 0 1 2 0 1\n",
      "[0, 0, 0, 0, 0, 0, 0, 0, 0, 1, 1, 1, 1, 1, 1, 1, 1, 2, 2, 2, 2, 2, 2, 2, 2]\n"
     ]
    }
   ],
   "source": [
    "n=int(input())\n",
    "arr=list(map(int,input().split()))\n",
    "arr.sort()\n",
    "print(arr)"
   ]
  },
  {
   "cell_type": "code",
   "execution_count": 34,
   "metadata": {},
   "outputs": [
    {
     "name": "stdout",
     "output_type": "stream",
     "text": [
      "2\n"
     ]
    }
   ],
   "source": [
    "#number of times a number repeated\n",
    "def repeat(n,arr):\n",
    "    count=0\n",
    "    for i in arr:\n",
    "        if i==x:\n",
    "            count=count+1\n",
    "    return count\n",
    "arr=[0,1,2,4,5,6,6,5,5,5,53,2,5]\n",
    "x=6\n",
    "print(repeat(x,arr))"
   ]
  },
  {
   "cell_type": "code",
   "execution_count": 36,
   "metadata": {},
   "outputs": [
    {
     "name": "stdout",
     "output_type": "stream",
     "text": [
      "2\n"
     ]
    }
   ],
   "source": [
    "arr=[1,2,3,3,3,4,5,6,3,2,3]\n",
    "x=2\n",
    "c=0\n",
    "for i in arr:\n",
    "    if i==x:\n",
    "        c=c+1\n",
    "        \n",
    "print(c)"
   ]
  },
  {
   "cell_type": "code",
   "execution_count": 42,
   "metadata": {},
   "outputs": [
    {
     "name": "stdout",
     "output_type": "stream",
     "text": [
      "[1, 2, 3]\n"
     ]
    }
   ],
   "source": [
    "a=set([1,2,3,4,5])\n",
    "b=set([1,2,3])\n",
    "s=a.intersection(b)\n",
    "print(list(s))"
   ]
  },
  {
   "cell_type": "code",
   "execution_count": 45,
   "metadata": {},
   "outputs": [
    {
     "name": "stdout",
     "output_type": "stream",
     "text": [
      "[1, 2, 3, 2, 1, 5, 7, 0, -1, -3, -5]\n"
     ]
    }
   ],
   "source": [
    "#shift negative values\n",
    "def shift(arr,n):\n",
    "    j=0\n",
    "    for i in range(n):\n",
    "        if arr[i]>0:\n",
    "            arr[i],arr[j]=arr[j],arr[i]\n",
    "            j=j+1\n",
    "    return arr\n",
    "arr=[0,1,2,3,-1,-3,-5,2,1,5,7]\n",
    "n=len(arr)\n",
    "print(shift(arr,n))\n",
    "            "
   ]
  },
  {
   "cell_type": "code",
   "execution_count": 50,
   "metadata": {},
   "outputs": [
    {
     "name": "stdout",
     "output_type": "stream",
     "text": [
      "[1, 2, 3, 2, 1, 5, 7, 0, -1, -3, -5]\n"
     ]
    }
   ],
   "source": [
    "arr=[0,1,2,3,-1,-3,-5,2,1,5,7]\n",
    "j=0\n",
    "for i in range(len(arr)):\n",
    "    if(arr[i]>0):\n",
    "        arr[i],arr[j]=arr[j],arr[i]\n",
    "        j=j+1\n",
    "print(arr)"
   ]
  },
  {
   "cell_type": "code",
   "execution_count": null,
   "metadata": {},
   "outputs": [],
   "source": []
  }
 ],
 "metadata": {
  "kernelspec": {
   "display_name": "Python 3",
   "language": "python",
   "name": "python3"
  },
  "language_info": {
   "codemirror_mode": {
    "name": "ipython",
    "version": 3
   },
   "file_extension": ".py",
   "mimetype": "text/x-python",
   "name": "python",
   "nbconvert_exporter": "python",
   "pygments_lexer": "ipython3",
   "version": "3.7.4"
  }
 },
 "nbformat": 4,
 "nbformat_minor": 2
}
